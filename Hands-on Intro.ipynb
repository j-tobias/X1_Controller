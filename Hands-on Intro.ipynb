{
 "cells": [
  {
   "cell_type": "code",
   "execution_count": 9,
   "metadata": {},
   "outputs": [],
   "source": [
    "import requests\n",
    "import requests_oauthlib\n",
    "import json\n",
    "import urllib3\n",
    "from typing import Any\n",
    "\n",
    "requests.packages.urllib3.disable_warnings()"
   ]
  },
  {
   "cell_type": "markdown",
   "metadata": {},
   "source": [
    "<h1>Table of Contents</h1>\n",
    "\n",
    "- <p style=\"font-size:15pt;\">Availability Check</p>\n",
    "- <p style=\"font-size:15pt;\">Conncet Device</p>\n",
    "- <p style=\"font-size:15pt;\">Register Callbacks</p>\n",
    "- <p style=\"font-size:15pt;\">UI Configuration</p>\n",
    "- <p style=\"font-size:15pt;\">Values</p>\n",
    "\n",
    "\n",
    "\n",
    "<h2>Note</h2>\n",
    "\n",
    "- <p style=\"font-size:12pt;\">I will not build in Value Checking since the functions are shown and should be clear</p>\n",
    "\n",
    "\n",
    "____________________"
   ]
  },
  {
   "cell_type": "markdown",
   "metadata": {},
   "source": [
    "<h2>Availability Check</h2>\n",
    "\n",
    "It is possible to check if the Gira IoT Rest API is available. Without prior resgistration or authentication\n",
    "\n",
    "soley send a GET request with 'api/v2' to the ip of your X1\n",
    "\n",
    "IF the response is 200 the API is available\n",
    "\n",
    "\n",
    "if it does not work with https: try it with http:"
   ]
  },
  {
   "cell_type": "code",
   "execution_count": 11,
   "metadata": {},
   "outputs": [],
   "source": [
    "ip = '10.220.9.114'\n",
    "url = f'https://{ip}/api/v2'"
   ]
  },
  {
   "cell_type": "code",
   "execution_count": 15,
   "metadata": {},
   "outputs": [],
   "source": [
    "response = requests.get(url,verify=False)"
   ]
  },
  {
   "cell_type": "code",
   "execution_count": 16,
   "metadata": {},
   "outputs": [
    {
     "data": {
      "text/plain": [
       "<Response [200]>"
      ]
     },
     "execution_count": 16,
     "metadata": {},
     "output_type": "execute_result"
    }
   ],
   "source": [
    "response"
   ]
  },
  {
   "cell_type": "markdown",
   "metadata": {},
   "source": [
    "________________"
   ]
  },
  {
   "cell_type": "markdown",
   "metadata": {},
   "source": [
    "<h2>Connect Device</h2>\n",
    "\n",
    "\"All Gira IoT REST API access is via HTTPS. All data is sent and received as JSON.\"\n",
    "\n",
    "\"To use the API a client has to register with a username and password for authorization. \n",
    "The registration for the API is using HTTPS with basic access authentication only.\"\n",
    "<h3>Important</h3>\n",
    "<p style=\"color:Tomato;\">The HTTPS connection is not fully trusted, because it is not technically possible that the server provides a trusted TLS certificate.\n",
    "Because of this, the client that is used to access the Gira IoT REST API needs to skip the certification check. \n",
    "Please consult the documentation of the client software or library on how to skip the certification check.</p>\n"
   ]
  },
  {
   "cell_type": "code",
   "execution_count": 12,
   "metadata": {},
   "outputs": [],
   "source": [
    "def connect (ip:str, username:str, password:str):\n",
    "\n",
    "    try:\n",
    "        requests.packages.urllib3.disable_warnings()\n",
    "        ssl_certificate = 'Utils/Zertifikate2.cer'\n",
    "        body = '{\"client\":\"de.homeandfuture.FristTestClient\"}'\n",
    "        url = f'https://{ip}/api/v2/clients'\n",
    "        response = requests.post(url, body, auth=(username, password), verify=False)\n",
    "        \n",
    "        return response\n",
    "    except Exception as e:\n",
    "        return e"
   ]
  },
  {
   "cell_type": "code",
   "execution_count": 13,
   "metadata": {},
   "outputs": [],
   "source": [
    "response_connect = connect('10.220.9.114','Justus','1111')"
   ]
  },
  {
   "cell_type": "code",
   "execution_count": 14,
   "metadata": {},
   "outputs": [
    {
     "data": {
      "text/plain": [
       "'tBSXdQtJwFrF88GzH9Tag32Xvi3FCYsv'"
      ]
     },
     "execution_count": 14,
     "metadata": {},
     "output_type": "execute_result"
    }
   ],
   "source": [
    "response_connect.json()['token']"
   ]
  },
  {
   "cell_type": "markdown",
   "metadata": {},
   "source": [
    "From now on my working token will be\n",
    "\n",
    "<p style=\"color:Tomato;\">tBSXdQtJwFrF88GzH9Tag32Xvi3FCYsv</p>\n",
    "\n",
    "the user is 'Justus'\n",
    "\n",
    "-------------------"
   ]
  },
  {
   "cell_type": "markdown",
   "metadata": {},
   "source": [
    "<h2>Register Callbacks</h2>\n",
    "\n",
    "If testCallbacks is set to true, the callback server must respond with 200 OK. Only one set of callback-URLs can be registered per < access token >.\n",
    "\n",
    "<h3>Data</h3>\n",
    "{\n",
    "\n",
    "\"serviceCallback\": \"callback URL of service events, optional\",\n",
    "\n",
    "\"valueCallback\": \"callback URL of value events, optional\",\n",
    "\n",
    "\"testCallbacks\": \"boolean value, optional\"\n",
    "\n",
    "}"
   ]
  },
  {
   "cell_type": "code",
   "execution_count": 8,
   "metadata": {},
   "outputs": [],
   "source": [
    "def register_callbacks (ip:str, token:str, serviceCallback:str, valueCallback:str, testCallbacks:bool = None):\n",
    "\n",
    "    if testCallbacks == None:\n",
    "        data = {\n",
    "                \"serviceCallback\": serviceCallback, \n",
    "                \"valueCallback\": valueCallback\n",
    "                }\n",
    "    else:\n",
    "        data = {\n",
    "                \"serviceCallback\": serviceCallback, \n",
    "                \"valueCallback\": valueCallback, \n",
    "                \"testCallbacks\": testCallbacks\n",
    "                }\n",
    "\n",
    "    try:\n",
    "        url = f'https://{ip}/api/v2/clients/{token}/callbacks'\n",
    "        response = requests.post(url, verify=False)\n",
    "        return response\n",
    "    except Exception as e:\n",
    "        return e"
   ]
  },
  {
   "cell_type": "code",
   "execution_count": 9,
   "metadata": {},
   "outputs": [],
   "source": [
    "serviceCallback = 'Test'\n",
    "valueCallback = 'Test'\n",
    "testCallbacks = None\n",
    "\n",
    "response_callback = register_callbacks('10.220.9.114','tBSXdQtJwFrF88GzH9Tag32Xvi3FCYsv', serviceCallback, valueCallback, testCallbacks)"
   ]
  },
  {
   "cell_type": "code",
   "execution_count": 10,
   "metadata": {},
   "outputs": [
    {
     "data": {
      "text/plain": [
       "{'error': {'code': 'missingContent', 'message': 'Missing content.'}}"
      ]
     },
     "execution_count": 10,
     "metadata": {},
     "output_type": "execute_result"
    }
   ],
   "source": [
    "response_callback.json()"
   ]
  },
  {
   "cell_type": "markdown",
   "metadata": {},
   "source": [
    "<h3>Remember</h3>\n",
    "\n",
    "To use callbacks, a separate HTTPS-Server has to be used, where the REST API can send the callback events to.\n",
    "\n",
    "\n",
    "_____________________"
   ]
  },
  {
   "cell_type": "markdown",
   "metadata": {},
   "source": [
    "<h2>UI configuration</h2>\n",
    "\n",
    "This Block consists of 2 Parts \n",
    "1. Get the UID\n",
    "2. Get the configuration\n",
    "\n",
    "<h3>Get the UID</h3>\n",
    "\n",
    "GET /api/uiconfig/uid\n",
    "\n",
    "Unique identifier of current configuration. This identifier changes each time the configuration is changed (e.g. GPA project download, configuration changes with the Gira Smart Home App)."
   ]
  },
  {
   "cell_type": "code",
   "execution_count": 7,
   "metadata": {},
   "outputs": [],
   "source": [
    "def get_config_uid (ip:str, token:str):\n",
    "\n",
    "    try:\n",
    "        url = f'https://{ip}/api/v2/uiconfig/uid?token={token}'\n",
    "        response = requests.get(url, verify=False)\n",
    "        return response\n",
    "    except Exception as e:\n",
    "        return e "
   ]
  },
  {
   "cell_type": "code",
   "execution_count": 15,
   "metadata": {},
   "outputs": [],
   "source": [
    "response_uid = get_config_uid('10.220.9.114','tBSXdQtJwFrF88GzH9Tag32Xvi3FCYsv')"
   ]
  },
  {
   "cell_type": "code",
   "execution_count": 17,
   "metadata": {},
   "outputs": [
    {
     "data": {
      "text/plain": [
       "({'uid': 'a0e3'}, '{\"uid\":\"a0e3\"}')"
      ]
     },
     "execution_count": 17,
     "metadata": {},
     "output_type": "execute_result"
    }
   ],
   "source": [
    "response_uid.json(), response_uid"
   ]
  },
  {
   "cell_type": "markdown",
   "metadata": {},
   "source": [
    "From now on my working uid will be <p style=\"color:Tomato;\">a0e3</p>\n",
    "\n",
    "_____________________"
   ]
  },
  {
   "cell_type": "markdown",
   "metadata": {},
   "source": [
    "<h3>Get the configuration</h3>\n",
    "\n",
    "GET /api/uiconfig[?expand=dataPointFlags,parameters,locations,trades]\n",
    "\n",
    "Response\n",
    "Get complete UI configuration.\n",
    "- uid - The unique UI configuration identifier.\n",
    "- functionType - Function types unique resource name. See 9.1 Function definitions for further information.\n",
    "- channelType - Channel types unique resource name. See 9.2 Channel definitions for further information.\n",
    "- displayName - UTF-8 based display name.\n",
    "- functions - A list of all functions.\n",
    "- dataPoints - A list of all available data points in the function.\n",
    "- uid - The unique identifier of the data point.\n",
    "- name - The logical name of the data point based on the channel definition.\n",
    "- canRead - Whether the data point can be read.\n",
    "Will be returned if dataPointFlags present within expand parameter only.\n",
    "- canWrite - Whether the data point can be written.\n",
    "Will be returned if dataPointFlags present within expand parameter only.\n",
    "- canEvent - Whether the data point can event.\n",
    "Will be returned if dataPointFlags present within expand parameter only.\n",
    "- parameters - A list of function parameters.\n",
    "Will be returned if present within expand parameter only.\n",
    "- locations - A nested list of all locations and the contained unique function identifiers. Will be returned if present within expand parameter only.\n",
    "- trades - A list of all trades and the contained unique function identifiers. Will be returned if present within expand parameter only."
   ]
  },
  {
   "cell_type": "code",
   "execution_count": 85,
   "metadata": {},
   "outputs": [],
   "source": [
    "def get_uid_config (ip:str, token:str, uid:str):\n",
    "    try:\n",
    "        url = f'https://{ip}/api/uiconfig?token={token}'\n",
    "        response = requests.get(url, verify=False)\n",
    "        return response\n",
    "    except Exception as e:\n",
    "        return e"
   ]
  },
  {
   "cell_type": "code",
   "execution_count": 86,
   "metadata": {},
   "outputs": [],
   "source": [
    "uid_config = get_uid_config('10.220.9.114','1cUEe8F9ZZGQvIMvR7jpm6WP4IJbB1TT', 'a0e3')"
   ]
  },
  {
   "cell_type": "code",
   "execution_count": 95,
   "metadata": {},
   "outputs": [
    {
     "data": {
      "text/plain": [
       "<Response [200]>"
      ]
     },
     "execution_count": 95,
     "metadata": {},
     "output_type": "execute_result"
    }
   ],
   "source": [
    "uid_config"
   ]
  },
  {
   "cell_type": "markdown",
   "metadata": {},
   "source": [
    "<p style=\"font-size:12pt;\">Now we have the whole current configuration</p>\n",
    "<p style=\"font-size:12pt;\">Let's save it to a .json file to have a look at it</p>"
   ]
  },
  {
   "cell_type": "code",
   "execution_count": 101,
   "metadata": {},
   "outputs": [],
   "source": [
    "with open('uid_config.json', mode = 'w') as f:\n",
    "    json.dump(uid_config.json(),f, indent=6)"
   ]
  },
  {
   "cell_type": "code",
   "execution_count": 100,
   "metadata": {},
   "outputs": [
    {
     "name": "stdout",
     "output_type": "stream",
     "text": [
      "Sonos Hobbyraum\n",
      "Hobbyraum Steckdose Nord-West\n",
      "Hobbyraum Steckdose Süd-West\n",
      "Fernzugriff\n",
      "SD karten Speicherzustand\n",
      "Datenlogger Status\n",
      "Staubsauger\n",
      "Deckenlich Waschküche\n",
      "Deckenlich Carportkeller\n",
      "Deckenlicht Kellerflur\n",
      "Deckenlicht Basteleck\n",
      "Keller Licht Zentral\n",
      "Deckenlicht Fitnessraum\n",
      "Sonos Wohnzimmer\n",
      "Stehlampe Wohnzimmer\n",
      "Steckdose Whonzimmer Links\n",
      "Deckenlicht Wohnzimmer Nord alle\n",
      "Deckenlicht Wohnzimmer Süd alle\n",
      "Deckenlicht Wohnzimmer alle\n",
      "Jalousie Wohnzimmer Süd\n",
      "Jalousie Wohnzimmer Süd West Fest\n",
      "Jalousie Wohnzimmer Süd-West Tür\n",
      "Jalousie Wohnzimmer Nord-West Tür\n",
      "Jalousie Wohnzimmer Nord-West Fest\n",
      "Jalousie Wohnzimmer Nord\n",
      "Deckenlicht Küche\n",
      "Jalousie Küche\n",
      "Sonos Küche\n",
      "Deckenlicht Arbeitszimmer\n",
      "Jalousie Arbeitszimmer Ost\n",
      "Jalousie Arbeitszimmer Süd\n",
      "Deckenlicht Diele\n",
      "Jalousie Diele\n",
      "Deckenlicht WC\n",
      "Licht Erdgeschoss Zentral\n",
      "Jalousie Erdgeschoss Zentral\n",
      "Deckenlicht Justus\n",
      "Jalousie Justus\n",
      "Sonos Justus\n",
      "Wandlicht Justus\n",
      "Licht Justus\n",
      "Licht Justus Aus\n",
      "Sonos II\n",
      "Deckenlicht Bad\n",
      "Jalousie Bad\n",
      "Sonos Bad\n",
      "Deckenlicht Hannah\n",
      "Jalousie Hannah\n",
      "Sonos Hannah\n",
      "Deckenlicht Nina\n",
      "Jalousie Nina\n",
      "Deckenlicht Technickraum\n",
      "Deckenlicht Nani\n",
      "Jalousie Nani\n",
      "Deckenlicht Flur\n",
      "Licht Obergeschoss Zentral\n",
      "Jalousie Obergeschoss Zentral\n",
      "Status Licht\n",
      "Deckenlicht Alex Ost\n",
      "Deckenlicht Alex West\n",
      "Jalousie Alex Ost\n",
      "Jalousie Alex West\n",
      "Jalousie Alex Zentral\n",
      "Deckenlicht Alex zentral\n",
      "Sonos Alex\n",
      "Licht Eingang\n",
      "Schuppen Ost\n",
      "Schuppen West\n",
      "Brunnen\n",
      "Fahrradschuppen\n",
      "Keller Licht Zentral\n",
      "Licht Erdgeschoss Zentral\n",
      "Licht Obergeschoss Zentral\n",
      "Jalousie Erdgeschoss Zentral\n",
      "Jalousie Obergeschoss Zentral\n"
     ]
    }
   ],
   "source": [
    "functions = uid_config.json()['functions']\n",
    "for function in functions:\n",
    "    print(f\"{function['displayName']}\")"
   ]
  },
  {
   "cell_type": "markdown",
   "metadata": {},
   "source": [
    "We now had a look at the current configuration of the X1 and understand it a little bit\n",
    "\n",
    "________________________________________"
   ]
  },
  {
   "cell_type": "markdown",
   "metadata": {},
   "source": [
    "<h2>Values</h2>\n",
    "\n",
    "This Block consists of 3 Parts \n",
    "1. Get value(s)\n",
    "2. Set value(s)\n",
    "3. Set single value\n",
    "\n",
    "<h3>Get value(s)</h3>\n",
    "\n",
    "GET /api/values/{uid}"
   ]
  },
  {
   "cell_type": "code",
   "execution_count": 102,
   "metadata": {},
   "outputs": [],
   "source": [
    "def get_uid_values (ip:str, token:str, uid:str):\n",
    "    try:\n",
    "        url = f'https://{ip}/api/values/{uid}?token={token}'\n",
    "        response = requests.get(url, verify=False)\n",
    "        return response\n",
    "    except Exception as e:\n",
    "        return e"
   ]
  },
  {
   "cell_type": "code",
   "execution_count": 105,
   "metadata": {},
   "outputs": [],
   "source": [
    "uid_values = get_uid_values('10.220.9.114','1cUEe8F9ZZGQvIMvR7jpm6WP4IJbB1TT', 'a02m')"
   ]
  },
  {
   "cell_type": "code",
   "execution_count": 106,
   "metadata": {},
   "outputs": [
    {
     "data": {
      "text/plain": [
       "({'values': [{'uid': 'a02n', 'value': '1'},\n",
       "   {'uid': 'a02o', 'value': '-0'},\n",
       "   {'uid': 'a02p', 'value': '7'}]},\n",
       " <Response [200]>)"
      ]
     },
     "execution_count": 106,
     "metadata": {},
     "output_type": "execute_result"
    }
   ],
   "source": [
    "uid_values.json(),uid_values"
   ]
  },
  {
   "cell_type": "markdown",
   "metadata": {},
   "source": [
    "As we can see for a normal light we get a list of the value dicts and those are matching with the ones from the uid config\n",
    "\n",
    "<br>\"dataPoints\": [</br>\n",
    "<br>            {\n",
    "<br>                  \"name\": \"OnOff\",</br>\n",
    "<br>                  \"uid\": \"a02n\"</br>\n",
    "<br>            },</br>\n",
    "<br>            {</br>\n",
    "<br>                  \"name\": \"Shift\",</br>\n",
    "<br>                  \"uid\": \"a02o\"</br>\n",
    "<br>            },</br>\n",
    "<br>            {</br>\n",
    "<br>                  \"name\": \"Brightness\",</br>\n",
    "<br>                  \"uid\": \"a02p\"</br>\n",
    "<br>            }</br>\n",
    "\n",
    "\n",
    "as we can conclude \n",
    "- \"OnOff\" has value | 1 | \n",
    "- \"Shift\" has value | -0 | \n",
    "- Brightness has value | 7 |\n",
    "\n",
    "----------------------"
   ]
  },
  {
   "cell_type": "markdown",
   "metadata": {},
   "source": [
    "<h3>Set value(s)</h3>\n",
    "\n",
    "PUT /api/values"
   ]
  },
  {
   "cell_type": "code",
   "execution_count": 205,
   "metadata": {},
   "outputs": [],
   "source": [
    "def set_values (ip:str, token:str, uid:str, value: Any):\n",
    "\n",
    "    try:\n",
    "        url = f'https://{ip}/api/v2/values?token={token}'\n",
    "        body = {\n",
    "                    \"values\": [\n",
    "                        {\n",
    "                            \"uid\": \"a02n\",\n",
    "                            \"value\": value\n",
    "                        }, \n",
    "                        {\n",
    "                            \"uid\": \"a02o\",\n",
    "                            \"value\": -0 \n",
    "                        },\n",
    "                        {\n",
    "                            \"uid\": \"a02p\",\n",
    "                            \"value\": 7\n",
    "                        }\n",
    "\n",
    "                    ] \n",
    "                }\n",
    "        response = requests.put(url, json=body,verify=False)\n",
    "        return response\n",
    "    except Exception as e:\n",
    "        return e\n",
    "\n",
    "def set_value (ip:str, token:str, uid:str, value: Any):\n",
    "\n",
    "    try:\n",
    "        url = f'https://{ip}/api/values/{uid}?token={token}'\n",
    "        body = { \"value\" : value }\n",
    "        response = requests.put(url, json=body, verify=False)\n",
    "        return response\n",
    "    except Exception as e:\n",
    "        return e"
   ]
  },
  {
   "cell_type": "code",
   "execution_count": 208,
   "metadata": {},
   "outputs": [],
   "source": [
    "value_set = set_value('10.220.9.114','1cUEe8F9ZZGQvIMvR7jpm6WP4IJbB1TT', 'a02n', 0)"
   ]
  },
  {
   "cell_type": "code",
   "execution_count": 209,
   "metadata": {},
   "outputs": [
    {
     "data": {
      "text/plain": [
       "<Response [200]>"
      ]
     },
     "execution_count": 209,
     "metadata": {},
     "output_type": "execute_result"
    }
   ],
   "source": [
    "value_set"
   ]
  },
  {
   "cell_type": "markdown",
   "metadata": {},
   "source": [
    "Important to notice is when a value set is succesfull no json is returned only a Response [200]"
   ]
  },
  {
   "cell_type": "markdown",
   "metadata": {},
   "source": [
    "<p style=\"font-size:15pt;\">WE DID IT</p>\n",
    "\n",
    "<p style=\"font-size:12pt;\">we successfully set a value</p>"
   ]
  }
 ],
 "metadata": {
  "kernelspec": {
   "display_name": "Python 3.10.5 64-bit",
   "language": "python",
   "name": "python3"
  },
  "language_info": {
   "codemirror_mode": {
    "name": "ipython",
    "version": 3
   },
   "file_extension": ".py",
   "mimetype": "text/x-python",
   "name": "python",
   "nbconvert_exporter": "python",
   "pygments_lexer": "ipython3",
   "version": "3.10.5"
  },
  "orig_nbformat": 4,
  "vscode": {
   "interpreter": {
    "hash": "aee8b7b246df8f9039afb4144a1f6fd8d2ca17a180786b69acc140d282b71a49"
   }
  }
 },
 "nbformat": 4,
 "nbformat_minor": 2
}
